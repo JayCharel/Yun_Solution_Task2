{
  "nbformat": 4,
  "nbformat_minor": 0,
  "metadata": {
    "colab": {
      "provenance": []
    },
    "kernelspec": {
      "name": "python3",
      "display_name": "Python 3"
    },
    "language_info": {
      "name": "python"
    }
  },
  "cells": [
    {
      "cell_type": "code",
      "execution_count": null,
      "metadata": {
        "id": "-2ueSqN1J7aZ"
      },
      "outputs": [],
      "source": [
        "import pandas as pd\n",
        "\n",
        "from google.colab import drive\n",
        "drive.mount('/content/drive')\n",
        "\n",
        "df = pd.read_excel('/content/drive/MyDrive/corpo_announcements.xlsx')\n",
        "df1 = pd.read_excel('/content/drive/MyDrive/corpo_announcements_Only10.xlsx') # Through mannual removal\n",
        "\n",
        "# Getting the first ten rows for getting transcript\n",
        "df1 = df.head(10)\n",
        "\n",
        "print(df1)\n"
      ]
    },
    {
      "cell_type": "code",
      "source": [
        "import requests\n",
        "import xml.etree.ElementTree as ET\n",
        "from bs4 import BeautifulSoup\n",
        "\n",
        "# Create an empty list to store the extracted transcripts\n",
        "transcripts = []\n",
        "\n",
        "# Iteratint over the URLs in the column using for loops\n",
        "for url in df1['SOURCE']:\n",
        "    try:\n",
        "        # Sending a GET request to the URL\n",
        "        response = requests.get(url)\n",
        "        print(response.status_code)\n",
        "        # Check if the request was successful (status code 200 indicates success)\n",
        "        if response.status_code == 200:\n",
        "            # Get the XML content of the file\n",
        "            xml_content = response.content\n",
        "            print('abc')\n",
        "            # Parse the XML content\n",
        "            root = ET.fromstring(xml_content)\n",
        "            \n",
        "            # Using  XML content as needed \n",
        "            transcript_element = root.find('Transcript')  # Useing XML element tag\n",
        "            transcript = transcript_element.text.strip() if transcript_element is not None else ''\n",
        "            \n",
        "            # Appending the extracted transcript to the list\n",
        "            transcripts.append(transcript)\n",
        "            \n",
        "        else:\n",
        "            transcripts.append('Error: ' + str(response.status_code))\n",
        "            \n",
        "    except requests.exceptions.RequestException as e:\n",
        "        transcripts.append('Error: ' + str(e))\n",
        "\n",
        "# Creating a new column 'Transcript' in the DataFrame and assigning the extracted transcripts\n",
        "df1['Transcript'] = transcripts\n",
        "\n",
        "# Saving the updated DataFrame to a new Excel file\n",
        "df1.to_excel('updated_file_First10.xlsx', index=False)\n"
      ],
      "metadata": {
        "id": "jBO3Fpx_rHIy"
      },
      "execution_count": null,
      "outputs": []
    },
    {
      "cell_type": "markdown",
      "source": [
        "I have read the Excel file through Pandas but not able to understand the question through the given problem. I have understood that i want to get transcript for URL file that is of XML nature and i ammtrying to get transcript bu using above code with request and if it passes then get content of it. Once i get content in an Excel Column named \"Transcript\" i can also extract audio for that. i think that audio/transcipt can descibe certain call decisions. As Converting from XML to tanscript was taking too much time i took first 10 rows by making a new df, then processing on that but i was getting 404 error. I tried fixing that but didnt gor through it. After that we can get important features and can get new df and save a new excel based on final requirements."
      ],
      "metadata": {
        "id": "ULxhcbhDc2io"
      }
    },
    {
      "cell_type": "code",
      "source": [],
      "metadata": {
        "id": "oAmnQp2Ic1mx"
      },
      "execution_count": null,
      "outputs": []
    }
  ]
}